{
 "cells": [
  {
   "cell_type": "code",
   "execution_count": 1,
   "metadata": {},
   "outputs": [],
   "source": [
    "from generador_cifrado import *\n",
    "from Crypto.Cipher import DES, DES3\n",
    "from Crypto.Util.Padding import pad, unpad\n",
    "from Crypto.Random import get_random_bytes"
   ]
  },
  {
   "cell_type": "code",
   "execution_count": 6,
   "metadata": {},
   "outputs": [
    {
     "name": "stdout",
     "output_type": "stream",
     "text": [
      "Keystream:  I©ªHt\u0000cv\u0003I\n",
      "Mensaje cifrado:  ['00000001', '11000110', '11000110', '00101001', '01010100', '01101101', '00010110', '00011000', '01100111', '00100110']\n",
      "Mensaje descifrado:  Hola mundo\n",
      "Mensaje cifrado:  ['00001000', '11001101', '11000011', '10111011', '00011010', '00100000', '00001110', '00000011', '01101101', '00101101', '00100110']\n",
      "Mensaje descifrado:  Adión mundo\n"
     ]
    }
   ],
   "source": [
    "# Uso de la función de encriptado\n",
    "mensaje = \"Hola mundo\"\n",
    "keystream = generar_keystream(len(mensaje))\n",
    "\n",
    "print(\"Keystream: \", keystream)\n",
    "\n",
    "mensaje_cifrado = cifrar_mensaje(mensaje, keystream)\n",
    "print(\"Mensaje cifrado: \", mensaje_cifrado)\n",
    "\n",
    "# Uso de la función para decriptar.\n",
    "mensaje_descifrado = descifrar_mensaje(mensaje_cifrado, keystream)\n",
    "print(\"Mensaje descifrado: \", mensaje_descifrado)\n",
    "\n",
    "mensaje2 = \"Adión mundo\"\n",
    "mensaje_cifrado2 = cifrar_mensaje(mensaje2, keystream)\n",
    "print(\"Mensaje cifrado: \", mensaje_cifrado2)\n",
    "\n",
    "mensaje_descifrado2 = descifrar_mensaje(mensaje_cifrado2, keystream)\n",
    "print(\"Mensaje descifrado: \", mensaje_descifrado2)"
   ]
  },
  {
   "cell_type": "markdown",
   "metadata": {},
   "source": [
    "1. **¿Cómo cambia el mensaje cifrado cuando cambias la clave?**\n",
    "    - La forma en la que cambia el mensaje es que los binarios cambian de forma y de distribución.\n",
    "2. **¿Qué sucede si utilizas el mismo Keystream para cifrar dos mensajes diferentes?**\n",
    "    - Se pudo notar que, a pesar de que tengo el mismo keystream, los dos mensajes cifrados cambian de longitud y los binarios que se usan para cifrar los mensajes son totalmente diferentes.\n",
    "3. **¿Cómo afecta la longitud del Keystream a la seguridad del cifrado?**\n",
    "    - Que al momento de tener un keystream más largo, el mensaje será más complejo y tardará más en ser descifrado o \"hackeado\"."
   ]
  }
 ],
 "metadata": {
  "kernelspec": {
   "display_name": "Python 3",
   "language": "python",
   "name": "python3"
  },
  "language_info": {
   "codemirror_mode": {
    "name": "ipython",
    "version": 3
   },
   "file_extension": ".py",
   "mimetype": "text/x-python",
   "name": "python",
   "nbconvert_exporter": "python",
   "pygments_lexer": "ipython3",
   "version": "3.11.3"
  }
 },
 "nbformat": 4,
 "nbformat_minor": 2
}
